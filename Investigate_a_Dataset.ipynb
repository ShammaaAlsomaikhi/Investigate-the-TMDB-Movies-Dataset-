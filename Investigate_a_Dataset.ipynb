{
 "cells": [
  {
   "cell_type": "markdown",
   "metadata": {
    "tags": []
   },
   "source": [
    "# Project: Investigate a Dataset - [tmdb-movies]\n",
    "\n",
    "## Table of Contents\n",
    "<ul>\n",
    "<li><a href=\"#intro\">Introduction</a></li>\n",
    "<li><a href=\"#wrangling\">Data Wrangling</a></li>\n",
    "<li><a href=\"#eda\">Exploratory Data Analysis</a></li>\n",
    "<li><a href=\"#conclusions\">Conclusions</a></li>\n",
    "</ul>"
   ]
  },
  {
   "cell_type": "markdown",
   "metadata": {},
   "source": [
    "<a id='intro'></a>\n",
    "## Introduction\n",
    "\n",
    "### Dataset Description \n",
    "\n",
    "> In this project, I am investigating a TMDb movies database file which has collection of important detials of about 10k+ movies, including their details of budget, revenue, release dates, etc. \n",
    "\n",
    "\n",
    "### Question(s) for Analysis\n",
    "> Q1: Are movies with high popularity tend to have a bigger budget and better revenue ? (is there a correlation between popularity & budget & revenue ?)\n",
    "\n",
    "> Q2: Do movies become longer as the years go by ? (is there a correlation between relase year and runtime?)"
   ]
  },
  {
   "cell_type": "code",
   "execution_count": 39,
   "metadata": {
    "tags": []
   },
   "outputs": [],
   "source": [
    "# set up \n",
    "\n",
    "import pandas as pd\n",
    "import numpy as np\n",
    "import matplotlib.pyplot as plt\n",
    "import os"
   ]
  },
  {
   "cell_type": "markdown",
   "metadata": {},
   "source": [
    "<a id='wrangling'></a>\n",
    "## Data Wrangling"
   ]
  },
  {
   "cell_type": "code",
   "execution_count": 40,
   "metadata": {
    "tags": []
   },
   "outputs": [
    {
     "data": {
      "text/html": [
       "<div>\n",
       "<style scoped>\n",
       "    .dataframe tbody tr th:only-of-type {\n",
       "        vertical-align: middle;\n",
       "    }\n",
       "\n",
       "    .dataframe tbody tr th {\n",
       "        vertical-align: top;\n",
       "    }\n",
       "\n",
       "    .dataframe thead th {\n",
       "        text-align: right;\n",
       "    }\n",
       "</style>\n",
       "<table border=\"1\" class=\"dataframe\">\n",
       "  <thead>\n",
       "    <tr style=\"text-align: right;\">\n",
       "      <th></th>\n",
       "      <th>id</th>\n",
       "      <th>imdb_id</th>\n",
       "      <th>popularity</th>\n",
       "      <th>budget</th>\n",
       "      <th>revenue</th>\n",
       "      <th>original_title</th>\n",
       "      <th>cast</th>\n",
       "      <th>homepage</th>\n",
       "      <th>director</th>\n",
       "      <th>tagline</th>\n",
       "      <th>...</th>\n",
       "      <th>overview</th>\n",
       "      <th>runtime</th>\n",
       "      <th>genres</th>\n",
       "      <th>production_companies</th>\n",
       "      <th>release_date</th>\n",
       "      <th>vote_count</th>\n",
       "      <th>vote_average</th>\n",
       "      <th>release_year</th>\n",
       "      <th>budget_adj</th>\n",
       "      <th>revenue_adj</th>\n",
       "    </tr>\n",
       "  </thead>\n",
       "  <tbody>\n",
       "    <tr>\n",
       "      <th>0</th>\n",
       "      <td>135397</td>\n",
       "      <td>tt0369610</td>\n",
       "      <td>32.985763</td>\n",
       "      <td>150000000</td>\n",
       "      <td>1513528810</td>\n",
       "      <td>Jurassic World</td>\n",
       "      <td>Chris Pratt|Bryce Dallas Howard|Irrfan Khan|Vi...</td>\n",
       "      <td>http://www.jurassicworld.com/</td>\n",
       "      <td>Colin Trevorrow</td>\n",
       "      <td>The park is open.</td>\n",
       "      <td>...</td>\n",
       "      <td>Twenty-two years after the events of Jurassic ...</td>\n",
       "      <td>124</td>\n",
       "      <td>Action|Adventure|Science Fiction|Thriller</td>\n",
       "      <td>Universal Studios|Amblin Entertainment|Legenda...</td>\n",
       "      <td>6/9/15</td>\n",
       "      <td>5562</td>\n",
       "      <td>6.5</td>\n",
       "      <td>2015</td>\n",
       "      <td>1.379999e+08</td>\n",
       "      <td>1.392446e+09</td>\n",
       "    </tr>\n",
       "    <tr>\n",
       "      <th>1</th>\n",
       "      <td>76341</td>\n",
       "      <td>tt1392190</td>\n",
       "      <td>28.419936</td>\n",
       "      <td>150000000</td>\n",
       "      <td>378436354</td>\n",
       "      <td>Mad Max: Fury Road</td>\n",
       "      <td>Tom Hardy|Charlize Theron|Hugh Keays-Byrne|Nic...</td>\n",
       "      <td>http://www.madmaxmovie.com/</td>\n",
       "      <td>George Miller</td>\n",
       "      <td>What a Lovely Day.</td>\n",
       "      <td>...</td>\n",
       "      <td>An apocalyptic story set in the furthest reach...</td>\n",
       "      <td>120</td>\n",
       "      <td>Action|Adventure|Science Fiction|Thriller</td>\n",
       "      <td>Village Roadshow Pictures|Kennedy Miller Produ...</td>\n",
       "      <td>5/13/15</td>\n",
       "      <td>6185</td>\n",
       "      <td>7.1</td>\n",
       "      <td>2015</td>\n",
       "      <td>1.379999e+08</td>\n",
       "      <td>3.481613e+08</td>\n",
       "    </tr>\n",
       "    <tr>\n",
       "      <th>2</th>\n",
       "      <td>262500</td>\n",
       "      <td>tt2908446</td>\n",
       "      <td>13.112507</td>\n",
       "      <td>110000000</td>\n",
       "      <td>295238201</td>\n",
       "      <td>Insurgent</td>\n",
       "      <td>Shailene Woodley|Theo James|Kate Winslet|Ansel...</td>\n",
       "      <td>http://www.thedivergentseries.movie/#insurgent</td>\n",
       "      <td>Robert Schwentke</td>\n",
       "      <td>One Choice Can Destroy You</td>\n",
       "      <td>...</td>\n",
       "      <td>Beatrice Prior must confront her inner demons ...</td>\n",
       "      <td>119</td>\n",
       "      <td>Adventure|Science Fiction|Thriller</td>\n",
       "      <td>Summit Entertainment|Mandeville Films|Red Wago...</td>\n",
       "      <td>3/18/15</td>\n",
       "      <td>2480</td>\n",
       "      <td>6.3</td>\n",
       "      <td>2015</td>\n",
       "      <td>1.012000e+08</td>\n",
       "      <td>2.716190e+08</td>\n",
       "    </tr>\n",
       "    <tr>\n",
       "      <th>3</th>\n",
       "      <td>140607</td>\n",
       "      <td>tt2488496</td>\n",
       "      <td>11.173104</td>\n",
       "      <td>200000000</td>\n",
       "      <td>2068178225</td>\n",
       "      <td>Star Wars: The Force Awakens</td>\n",
       "      <td>Harrison Ford|Mark Hamill|Carrie Fisher|Adam D...</td>\n",
       "      <td>http://www.starwars.com/films/star-wars-episod...</td>\n",
       "      <td>J.J. Abrams</td>\n",
       "      <td>Every generation has a story.</td>\n",
       "      <td>...</td>\n",
       "      <td>Thirty years after defeating the Galactic Empi...</td>\n",
       "      <td>136</td>\n",
       "      <td>Action|Adventure|Science Fiction|Fantasy</td>\n",
       "      <td>Lucasfilm|Truenorth Productions|Bad Robot</td>\n",
       "      <td>12/15/15</td>\n",
       "      <td>5292</td>\n",
       "      <td>7.5</td>\n",
       "      <td>2015</td>\n",
       "      <td>1.839999e+08</td>\n",
       "      <td>1.902723e+09</td>\n",
       "    </tr>\n",
       "    <tr>\n",
       "      <th>4</th>\n",
       "      <td>168259</td>\n",
       "      <td>tt2820852</td>\n",
       "      <td>9.335014</td>\n",
       "      <td>190000000</td>\n",
       "      <td>1506249360</td>\n",
       "      <td>Furious 7</td>\n",
       "      <td>Vin Diesel|Paul Walker|Jason Statham|Michelle ...</td>\n",
       "      <td>http://www.furious7.com/</td>\n",
       "      <td>James Wan</td>\n",
       "      <td>Vengeance Hits Home</td>\n",
       "      <td>...</td>\n",
       "      <td>Deckard Shaw seeks revenge against Dominic Tor...</td>\n",
       "      <td>137</td>\n",
       "      <td>Action|Crime|Thriller</td>\n",
       "      <td>Universal Pictures|Original Film|Media Rights ...</td>\n",
       "      <td>4/1/15</td>\n",
       "      <td>2947</td>\n",
       "      <td>7.3</td>\n",
       "      <td>2015</td>\n",
       "      <td>1.747999e+08</td>\n",
       "      <td>1.385749e+09</td>\n",
       "    </tr>\n",
       "  </tbody>\n",
       "</table>\n",
       "<p>5 rows × 21 columns</p>\n",
       "</div>"
      ],
      "text/plain": [
       "       id    imdb_id  popularity     budget     revenue  \\\n",
       "0  135397  tt0369610   32.985763  150000000  1513528810   \n",
       "1   76341  tt1392190   28.419936  150000000   378436354   \n",
       "2  262500  tt2908446   13.112507  110000000   295238201   \n",
       "3  140607  tt2488496   11.173104  200000000  2068178225   \n",
       "4  168259  tt2820852    9.335014  190000000  1506249360   \n",
       "\n",
       "                 original_title  \\\n",
       "0                Jurassic World   \n",
       "1            Mad Max: Fury Road   \n",
       "2                     Insurgent   \n",
       "3  Star Wars: The Force Awakens   \n",
       "4                     Furious 7   \n",
       "\n",
       "                                                cast  \\\n",
       "0  Chris Pratt|Bryce Dallas Howard|Irrfan Khan|Vi...   \n",
       "1  Tom Hardy|Charlize Theron|Hugh Keays-Byrne|Nic...   \n",
       "2  Shailene Woodley|Theo James|Kate Winslet|Ansel...   \n",
       "3  Harrison Ford|Mark Hamill|Carrie Fisher|Adam D...   \n",
       "4  Vin Diesel|Paul Walker|Jason Statham|Michelle ...   \n",
       "\n",
       "                                            homepage          director  \\\n",
       "0                      http://www.jurassicworld.com/   Colin Trevorrow   \n",
       "1                        http://www.madmaxmovie.com/     George Miller   \n",
       "2     http://www.thedivergentseries.movie/#insurgent  Robert Schwentke   \n",
       "3  http://www.starwars.com/films/star-wars-episod...       J.J. Abrams   \n",
       "4                           http://www.furious7.com/         James Wan   \n",
       "\n",
       "                         tagline  ...  \\\n",
       "0              The park is open.  ...   \n",
       "1             What a Lovely Day.  ...   \n",
       "2     One Choice Can Destroy You  ...   \n",
       "3  Every generation has a story.  ...   \n",
       "4            Vengeance Hits Home  ...   \n",
       "\n",
       "                                            overview runtime  \\\n",
       "0  Twenty-two years after the events of Jurassic ...     124   \n",
       "1  An apocalyptic story set in the furthest reach...     120   \n",
       "2  Beatrice Prior must confront her inner demons ...     119   \n",
       "3  Thirty years after defeating the Galactic Empi...     136   \n",
       "4  Deckard Shaw seeks revenge against Dominic Tor...     137   \n",
       "\n",
       "                                      genres  \\\n",
       "0  Action|Adventure|Science Fiction|Thriller   \n",
       "1  Action|Adventure|Science Fiction|Thriller   \n",
       "2         Adventure|Science Fiction|Thriller   \n",
       "3   Action|Adventure|Science Fiction|Fantasy   \n",
       "4                      Action|Crime|Thriller   \n",
       "\n",
       "                                production_companies release_date vote_count  \\\n",
       "0  Universal Studios|Amblin Entertainment|Legenda...       6/9/15       5562   \n",
       "1  Village Roadshow Pictures|Kennedy Miller Produ...      5/13/15       6185   \n",
       "2  Summit Entertainment|Mandeville Films|Red Wago...      3/18/15       2480   \n",
       "3          Lucasfilm|Truenorth Productions|Bad Robot     12/15/15       5292   \n",
       "4  Universal Pictures|Original Film|Media Rights ...       4/1/15       2947   \n",
       "\n",
       "   vote_average  release_year    budget_adj   revenue_adj  \n",
       "0           6.5          2015  1.379999e+08  1.392446e+09  \n",
       "1           7.1          2015  1.379999e+08  3.481613e+08  \n",
       "2           6.3          2015  1.012000e+08  2.716190e+08  \n",
       "3           7.5          2015  1.839999e+08  1.902723e+09  \n",
       "4           7.3          2015  1.747999e+08  1.385749e+09  \n",
       "\n",
       "[5 rows x 21 columns]"
      ]
     },
     "execution_count": 40,
     "metadata": {},
     "output_type": "execute_result"
    }
   ],
   "source": [
    "# Load your data and print out a few lines. What is the size of your dataframe? \n",
    "#   Perform operations to inspect data types and look for instances of missing\n",
    "#   or possibly errant data. There are at least 4 - 6 methods you can call on your\n",
    "#   dataframe to obtain this information.\n",
    "current_dir = os.getcwd()\n",
    "file_path = os.path.join(current_dir, 'Database_TMDb_movie_data', 'tmdb-movies.csv')\n",
    "df = pd.read_csv(file_path)\n",
    "df.head()"
   ]
  },
  {
   "cell_type": "code",
   "execution_count": 41,
   "metadata": {},
   "outputs": [
    {
     "data": {
      "text/plain": [
       "(10866, 21)"
      ]
     },
     "execution_count": 41,
     "metadata": {},
     "output_type": "execute_result"
    }
   ],
   "source": [
    "#let's find out how many columns and row we have\n",
    "df.shape"
   ]
  },
  {
   "cell_type": "code",
   "execution_count": 42,
   "metadata": {},
   "outputs": [
    {
     "name": "stdout",
     "output_type": "stream",
     "text": [
      "<class 'pandas.core.frame.DataFrame'>\n",
      "RangeIndex: 10866 entries, 0 to 10865\n",
      "Data columns (total 21 columns):\n",
      " #   Column                Non-Null Count  Dtype  \n",
      "---  ------                --------------  -----  \n",
      " 0   id                    10866 non-null  int64  \n",
      " 1   imdb_id               10856 non-null  object \n",
      " 2   popularity            10866 non-null  float64\n",
      " 3   budget                10866 non-null  int64  \n",
      " 4   revenue               10866 non-null  int64  \n",
      " 5   original_title        10866 non-null  object \n",
      " 6   cast                  10790 non-null  object \n",
      " 7   homepage              2936 non-null   object \n",
      " 8   director              10822 non-null  object \n",
      " 9   tagline               8042 non-null   object \n",
      " 10  keywords              9373 non-null   object \n",
      " 11  overview              10862 non-null  object \n",
      " 12  runtime               10866 non-null  int64  \n",
      " 13  genres                10843 non-null  object \n",
      " 14  production_companies  9836 non-null   object \n",
      " 15  release_date          10866 non-null  object \n",
      " 16  vote_count            10866 non-null  int64  \n",
      " 17  vote_average          10866 non-null  float64\n",
      " 18  release_year          10866 non-null  int64  \n",
      " 19  budget_adj            10866 non-null  float64\n",
      " 20  revenue_adj           10866 non-null  float64\n",
      "dtypes: float64(4), int64(6), object(11)\n",
      "memory usage: 1.7+ MB\n"
     ]
    }
   ],
   "source": [
    "#let's have over all look at the columns \n",
    "df.info()"
   ]
  },
  {
   "cell_type": "markdown",
   "metadata": {},
   "source": [
    "#### My finding\n",
    "> 1- [homepage, director, tagline, keywords, overview, genres, production_companies, director, cast] all have some missing values but most of them like homepage column are not actually helpful to our analysis so we should consider deleting some of them during the cleaning.\n",
    "\n",
    "> 2- [release_date] is string type should be datetime type so let's work on that during the cleaning\n"
   ]
  },
  {
   "cell_type": "markdown",
   "metadata": {},
   "source": [
    "\n",
    "### Data Cleaning"
   ]
  },
  {
   "cell_type": "code",
   "execution_count": 43,
   "metadata": {},
   "outputs": [
    {
     "name": "stdout",
     "output_type": "stream",
     "text": [
      "<class 'pandas.core.frame.DataFrame'>\n",
      "RangeIndex: 10866 entries, 0 to 10865\n",
      "Data columns (total 14 columns):\n",
      " #   Column          Non-Null Count  Dtype  \n",
      "---  ------          --------------  -----  \n",
      " 0   id              10866 non-null  int64  \n",
      " 1   imdb_id         10856 non-null  object \n",
      " 2   popularity      10866 non-null  float64\n",
      " 3   budget          10866 non-null  int64  \n",
      " 4   revenue         10866 non-null  int64  \n",
      " 5   original_title  10866 non-null  object \n",
      " 6   runtime         10866 non-null  int64  \n",
      " 7   genres          10843 non-null  object \n",
      " 8   release_date    10866 non-null  object \n",
      " 9   vote_count      10866 non-null  int64  \n",
      " 10  vote_average    10866 non-null  float64\n",
      " 11  release_year    10866 non-null  int64  \n",
      " 12  budget_adj      10866 non-null  float64\n",
      " 13  revenue_adj     10866 non-null  float64\n",
      "dtypes: float64(4), int64(6), object(4)\n",
      "memory usage: 1.2+ MB\n"
     ]
    }
   ],
   "source": [
    "#let's drop some of the columns we talk about [based on the questions we are trying to find out all of them they are not useful except genres]\n",
    "df.drop(['homepage', 'director', 'tagline', 'keywords', 'overview', 'production_companies','director', 'cast'], axis=1, inplace=True)\n",
    "df.info()"
   ]
  },
  {
   "cell_type": "code",
   "execution_count": 44,
   "metadata": {
    "tags": []
   },
   "outputs": [
    {
     "name": "stdout",
     "output_type": "stream",
     "text": [
      "<class 'pandas.core.frame.DataFrame'>\n",
      "RangeIndex: 10866 entries, 0 to 10865\n",
      "Data columns (total 14 columns):\n",
      " #   Column          Non-Null Count  Dtype         \n",
      "---  ------          --------------  -----         \n",
      " 0   id              10866 non-null  int64         \n",
      " 1   imdb_id         10856 non-null  object        \n",
      " 2   popularity      10866 non-null  float64       \n",
      " 3   budget          10866 non-null  int64         \n",
      " 4   revenue         10866 non-null  int64         \n",
      " 5   original_title  10866 non-null  object        \n",
      " 6   runtime         10866 non-null  int64         \n",
      " 7   genres          10843 non-null  object        \n",
      " 8   release_date    10866 non-null  datetime64[ns]\n",
      " 9   vote_count      10866 non-null  int64         \n",
      " 10  vote_average    10866 non-null  float64       \n",
      " 11  release_year    10866 non-null  int64         \n",
      " 12  budget_adj      10866 non-null  float64       \n",
      " 13  revenue_adj     10866 non-null  float64       \n",
      "dtypes: datetime64[ns](1), float64(4), int64(6), object(3)\n",
      "memory usage: 1.2+ MB\n"
     ]
    }
   ],
   "source": [
    "#convert the release_date to datetime obj \n",
    "df['release_date']= pd.to_datetime(df['release_date'])\n",
    "df.info()"
   ]
  },
  {
   "cell_type": "markdown",
   "metadata": {},
   "source": [
    "> nice ! we were able to have dataframe that is more focus to solve our questions and less memory usage :)"
   ]
  },
  {
   "cell_type": "markdown",
   "metadata": {},
   "source": [
    "<a id='eda'></a>\n",
    "## Exploratory Data Analysis\n",
    "\n",
    "\n",
    "\n",
    "### Are movies with high popularity tend to have a bigger budget and better revenue ? (is there a relationship between popularity & budget & revenue ?)"
   ]
  },
  {
   "cell_type": "markdown",
   "metadata": {},
   "source": [
    "#### please note:\n",
    "- hpm: high popular movies.\n",
    "- nhpm: not a high popular movies.\n",
    "- hbm: high budget movies.\n",
    "- nhbm: not a high budget movies.\n",
    "- bm: budget mean\n",
    "- rm: revenue mean"
   ]
  },
  {
   "cell_type": "code",
   "execution_count": 45,
   "metadata": {
    "tags": []
   },
   "outputs": [
    {
     "data": {
      "text/plain": [
       "0.6464409519602429"
      ]
     },
     "execution_count": 45,
     "metadata": {},
     "output_type": "execute_result"
    }
   ],
   "source": [
    "# to decide what to consider a high popularity we should get the mean of the popularity attribute and then any movie \n",
    "# that have popularity that is above the mean consider is high popular movie\n",
    "popularity_mean = df['popularity'].mean()\n",
    "popularity_mean"
   ]
  },
  {
   "cell_type": "code",
   "execution_count": 46,
   "metadata": {},
   "outputs": [
    {
     "data": {
      "text/plain": [
       "(3061, 14)"
      ]
     },
     "execution_count": 46,
     "metadata": {},
     "output_type": "execute_result"
    }
   ],
   "source": [
    "df_hpm = df[df['popularity'] > popularity_mean]\n",
    "df_hpm.shape"
   ]
  },
  {
   "cell_type": "code",
   "execution_count": 47,
   "metadata": {},
   "outputs": [
    {
     "data": {
      "text/html": [
       "<div>\n",
       "<style scoped>\n",
       "    .dataframe tbody tr th:only-of-type {\n",
       "        vertical-align: middle;\n",
       "    }\n",
       "\n",
       "    .dataframe tbody tr th {\n",
       "        vertical-align: top;\n",
       "    }\n",
       "\n",
       "    .dataframe thead th {\n",
       "        text-align: right;\n",
       "    }\n",
       "</style>\n",
       "<table border=\"1\" class=\"dataframe\">\n",
       "  <thead>\n",
       "    <tr style=\"text-align: right;\">\n",
       "      <th></th>\n",
       "      <th>id</th>\n",
       "      <th>popularity</th>\n",
       "      <th>budget</th>\n",
       "      <th>revenue</th>\n",
       "      <th>runtime</th>\n",
       "      <th>vote_count</th>\n",
       "      <th>vote_average</th>\n",
       "      <th>release_year</th>\n",
       "      <th>budget_adj</th>\n",
       "      <th>revenue_adj</th>\n",
       "    </tr>\n",
       "  </thead>\n",
       "  <tbody>\n",
       "    <tr>\n",
       "      <th>count</th>\n",
       "      <td>3061.000000</td>\n",
       "      <td>3061.000000</td>\n",
       "      <td>3.061000e+03</td>\n",
       "      <td>3.061000e+03</td>\n",
       "      <td>3061.000000</td>\n",
       "      <td>3061.000000</td>\n",
       "      <td>3061.000000</td>\n",
       "      <td>3061.000000</td>\n",
       "      <td>3.061000e+03</td>\n",
       "      <td>3.061000e+03</td>\n",
       "    </tr>\n",
       "    <tr>\n",
       "      <th>mean</th>\n",
       "      <td>55897.791245</td>\n",
       "      <td>1.547061</td>\n",
       "      <td>3.792057e+07</td>\n",
       "      <td>1.218346e+08</td>\n",
       "      <td>107.802025</td>\n",
       "      <td>648.757922</td>\n",
       "      <td>6.251715</td>\n",
       "      <td>2003.027442</td>\n",
       "      <td>4.357840e+07</td>\n",
       "      <td>1.514259e+08</td>\n",
       "    </tr>\n",
       "    <tr>\n",
       "      <th>std</th>\n",
       "      <td>86041.363936</td>\n",
       "      <td>1.534109</td>\n",
       "      <td>4.587339e+07</td>\n",
       "      <td>1.932661e+08</td>\n",
       "      <td>23.854159</td>\n",
       "      <td>939.698065</td>\n",
       "      <td>0.798087</td>\n",
       "      <td>11.198531</td>\n",
       "      <td>4.873867e+07</td>\n",
       "      <td>2.356909e+08</td>\n",
       "    </tr>\n",
       "    <tr>\n",
       "      <th>min</th>\n",
       "      <td>5.000000</td>\n",
       "      <td>0.646441</td>\n",
       "      <td>0.000000e+00</td>\n",
       "      <td>0.000000e+00</td>\n",
       "      <td>0.000000</td>\n",
       "      <td>10.000000</td>\n",
       "      <td>3.300000</td>\n",
       "      <td>1960.000000</td>\n",
       "      <td>0.000000e+00</td>\n",
       "      <td>0.000000e+00</td>\n",
       "    </tr>\n",
       "    <tr>\n",
       "      <th>25%</th>\n",
       "      <td>4638.000000</td>\n",
       "      <td>0.820611</td>\n",
       "      <td>4.500000e+06</td>\n",
       "      <td>6.629178e+06</td>\n",
       "      <td>95.000000</td>\n",
       "      <td>144.000000</td>\n",
       "      <td>5.700000</td>\n",
       "      <td>1997.000000</td>\n",
       "      <td>6.061307e+06</td>\n",
       "      <td>7.576805e+06</td>\n",
       "    </tr>\n",
       "    <tr>\n",
       "      <th>50%</th>\n",
       "      <td>11412.000000</td>\n",
       "      <td>1.090465</td>\n",
       "      <td>2.300000e+07</td>\n",
       "      <td>5.511236e+07</td>\n",
       "      <td>105.000000</td>\n",
       "      <td>311.000000</td>\n",
       "      <td>6.300000</td>\n",
       "      <td>2006.000000</td>\n",
       "      <td>2.835803e+07</td>\n",
       "      <td>6.956391e+07</td>\n",
       "    </tr>\n",
       "    <tr>\n",
       "      <th>75%</th>\n",
       "      <td>67913.000000</td>\n",
       "      <td>1.682492</td>\n",
       "      <td>5.300000e+07</td>\n",
       "      <td>1.529447e+08</td>\n",
       "      <td>119.000000</td>\n",
       "      <td>722.000000</td>\n",
       "      <td>6.800000</td>\n",
       "      <td>2012.000000</td>\n",
       "      <td>6.394997e+07</td>\n",
       "      <td>1.890207e+08</td>\n",
       "    </tr>\n",
       "    <tr>\n",
       "      <th>max</th>\n",
       "      <td>417859.000000</td>\n",
       "      <td>32.985763</td>\n",
       "      <td>3.800000e+08</td>\n",
       "      <td>2.781506e+09</td>\n",
       "      <td>540.000000</td>\n",
       "      <td>9767.000000</td>\n",
       "      <td>8.400000</td>\n",
       "      <td>2015.000000</td>\n",
       "      <td>3.683713e+08</td>\n",
       "      <td>2.827124e+09</td>\n",
       "    </tr>\n",
       "  </tbody>\n",
       "</table>\n",
       "</div>"
      ],
      "text/plain": [
       "                  id   popularity        budget       revenue      runtime  \\\n",
       "count    3061.000000  3061.000000  3.061000e+03  3.061000e+03  3061.000000   \n",
       "mean    55897.791245     1.547061  3.792057e+07  1.218346e+08   107.802025   \n",
       "std     86041.363936     1.534109  4.587339e+07  1.932661e+08    23.854159   \n",
       "min         5.000000     0.646441  0.000000e+00  0.000000e+00     0.000000   \n",
       "25%      4638.000000     0.820611  4.500000e+06  6.629178e+06    95.000000   \n",
       "50%     11412.000000     1.090465  2.300000e+07  5.511236e+07   105.000000   \n",
       "75%     67913.000000     1.682492  5.300000e+07  1.529447e+08   119.000000   \n",
       "max    417859.000000    32.985763  3.800000e+08  2.781506e+09   540.000000   \n",
       "\n",
       "        vote_count  vote_average  release_year    budget_adj   revenue_adj  \n",
       "count  3061.000000   3061.000000   3061.000000  3.061000e+03  3.061000e+03  \n",
       "mean    648.757922      6.251715   2003.027442  4.357840e+07  1.514259e+08  \n",
       "std     939.698065      0.798087     11.198531  4.873867e+07  2.356909e+08  \n",
       "min      10.000000      3.300000   1960.000000  0.000000e+00  0.000000e+00  \n",
       "25%     144.000000      5.700000   1997.000000  6.061307e+06  7.576805e+06  \n",
       "50%     311.000000      6.300000   2006.000000  2.835803e+07  6.956391e+07  \n",
       "75%     722.000000      6.800000   2012.000000  6.394997e+07  1.890207e+08  \n",
       "max    9767.000000      8.400000   2015.000000  3.683713e+08  2.827124e+09  "
      ]
     },
     "execution_count": 47,
     "metadata": {},
     "output_type": "execute_result"
    }
   ],
   "source": [
    "df_hpm.describe()"
   ]
  },
  {
   "cell_type": "code",
   "execution_count": 48,
   "metadata": {},
   "outputs": [
    {
     "data": {
      "text/plain": [
       "(7805, 14)"
      ]
     },
     "execution_count": 48,
     "metadata": {},
     "output_type": "execute_result"
    }
   ],
   "source": [
    "# comparing the average budget spent on high popular movies VS the average budget spent on movies \n",
    "# with average to low popularity will give us the answer\n",
    "df_nhpm = df[df['popularity'] <= popularity_mean]\n",
    "df_nhpm.shape"
   ]
  },
  {
   "cell_type": "code",
   "execution_count": 49,
   "metadata": {},
   "outputs": [
    {
     "data": {
      "text/html": [
       "<div>\n",
       "<style scoped>\n",
       "    .dataframe tbody tr th:only-of-type {\n",
       "        vertical-align: middle;\n",
       "    }\n",
       "\n",
       "    .dataframe tbody tr th {\n",
       "        vertical-align: top;\n",
       "    }\n",
       "\n",
       "    .dataframe thead th {\n",
       "        text-align: right;\n",
       "    }\n",
       "</style>\n",
       "<table border=\"1\" class=\"dataframe\">\n",
       "  <thead>\n",
       "    <tr style=\"text-align: right;\">\n",
       "      <th></th>\n",
       "      <th>id</th>\n",
       "      <th>popularity</th>\n",
       "      <th>budget</th>\n",
       "      <th>revenue</th>\n",
       "      <th>runtime</th>\n",
       "      <th>vote_count</th>\n",
       "      <th>vote_average</th>\n",
       "      <th>release_year</th>\n",
       "      <th>budget_adj</th>\n",
       "      <th>revenue_adj</th>\n",
       "    </tr>\n",
       "  </thead>\n",
       "  <tbody>\n",
       "    <tr>\n",
       "      <th>count</th>\n",
       "      <td>7805.000000</td>\n",
       "      <td>7805.000000</td>\n",
       "      <td>7.805000e+03</td>\n",
       "      <td>7.805000e+03</td>\n",
       "      <td>7805.000000</td>\n",
       "      <td>7805.000000</td>\n",
       "      <td>7805.000000</td>\n",
       "      <td>7805.000000</td>\n",
       "      <td>7.805000e+03</td>\n",
       "      <td>7.805000e+03</td>\n",
       "    </tr>\n",
       "    <tr>\n",
       "      <th>mean</th>\n",
       "      <td>70051.276489</td>\n",
       "      <td>0.293232</td>\n",
       "      <td>5.489813e+06</td>\n",
       "      <td>7.659776e+06</td>\n",
       "      <td>99.823190</td>\n",
       "      <td>48.213837</td>\n",
       "      <td>5.866368</td>\n",
       "      <td>2000.654068</td>\n",
       "      <td>7.343512e+06</td>\n",
       "      <td>1.212177e+07</td>\n",
       "    </tr>\n",
       "    <tr>\n",
       "      <th>std</th>\n",
       "      <td>94116.875851</td>\n",
       "      <td>0.164345</td>\n",
       "      <td>1.445679e+07</td>\n",
       "      <td>2.721794e+07</td>\n",
       "      <td>33.615614</td>\n",
       "      <td>115.956148</td>\n",
       "      <td>0.962242</td>\n",
       "      <td>13.334363</td>\n",
       "      <td>1.836272e+07</td>\n",
       "      <td>4.329654e+07</td>\n",
       "    </tr>\n",
       "    <tr>\n",
       "      <th>min</th>\n",
       "      <td>17.000000</td>\n",
       "      <td>0.000065</td>\n",
       "      <td>0.000000e+00</td>\n",
       "      <td>0.000000e+00</td>\n",
       "      <td>0.000000</td>\n",
       "      <td>10.000000</td>\n",
       "      <td>1.500000</td>\n",
       "      <td>1960.000000</td>\n",
       "      <td>0.000000e+00</td>\n",
       "      <td>0.000000e+00</td>\n",
       "    </tr>\n",
       "    <tr>\n",
       "      <th>25%</th>\n",
       "      <td>12526.000000</td>\n",
       "      <td>0.160986</td>\n",
       "      <td>0.000000e+00</td>\n",
       "      <td>0.000000e+00</td>\n",
       "      <td>89.000000</td>\n",
       "      <td>14.000000</td>\n",
       "      <td>5.300000</td>\n",
       "      <td>1993.000000</td>\n",
       "      <td>0.000000e+00</td>\n",
       "      <td>0.000000e+00</td>\n",
       "    </tr>\n",
       "    <tr>\n",
       "      <th>50%</th>\n",
       "      <td>24480.000000</td>\n",
       "      <td>0.276694</td>\n",
       "      <td>0.000000e+00</td>\n",
       "      <td>0.000000e+00</td>\n",
       "      <td>97.000000</td>\n",
       "      <td>23.000000</td>\n",
       "      <td>5.900000</td>\n",
       "      <td>2005.000000</td>\n",
       "      <td>0.000000e+00</td>\n",
       "      <td>0.000000e+00</td>\n",
       "    </tr>\n",
       "    <tr>\n",
       "      <th>75%</th>\n",
       "      <td>79931.000000</td>\n",
       "      <td>0.418611</td>\n",
       "      <td>3.500000e+06</td>\n",
       "      <td>6.228060e+05</td>\n",
       "      <td>108.000000</td>\n",
       "      <td>48.000000</td>\n",
       "      <td>6.500000</td>\n",
       "      <td>2011.000000</td>\n",
       "      <td>4.680167e+06</td>\n",
       "      <td>6.824086e+05</td>\n",
       "    </tr>\n",
       "    <tr>\n",
       "      <th>max</th>\n",
       "      <td>414419.000000</td>\n",
       "      <td>0.646413</td>\n",
       "      <td>4.250000e+08</td>\n",
       "      <td>7.886798e+08</td>\n",
       "      <td>900.000000</td>\n",
       "      <td>4368.000000</td>\n",
       "      <td>9.200000</td>\n",
       "      <td>2015.000000</td>\n",
       "      <td>4.250000e+08</td>\n",
       "      <td>8.530813e+08</td>\n",
       "    </tr>\n",
       "  </tbody>\n",
       "</table>\n",
       "</div>"
      ],
      "text/plain": [
       "                  id   popularity        budget       revenue      runtime  \\\n",
       "count    7805.000000  7805.000000  7.805000e+03  7.805000e+03  7805.000000   \n",
       "mean    70051.276489     0.293232  5.489813e+06  7.659776e+06    99.823190   \n",
       "std     94116.875851     0.164345  1.445679e+07  2.721794e+07    33.615614   \n",
       "min        17.000000     0.000065  0.000000e+00  0.000000e+00     0.000000   \n",
       "25%     12526.000000     0.160986  0.000000e+00  0.000000e+00    89.000000   \n",
       "50%     24480.000000     0.276694  0.000000e+00  0.000000e+00    97.000000   \n",
       "75%     79931.000000     0.418611  3.500000e+06  6.228060e+05   108.000000   \n",
       "max    414419.000000     0.646413  4.250000e+08  7.886798e+08   900.000000   \n",
       "\n",
       "        vote_count  vote_average  release_year    budget_adj   revenue_adj  \n",
       "count  7805.000000   7805.000000   7805.000000  7.805000e+03  7.805000e+03  \n",
       "mean     48.213837      5.866368   2000.654068  7.343512e+06  1.212177e+07  \n",
       "std     115.956148      0.962242     13.334363  1.836272e+07  4.329654e+07  \n",
       "min      10.000000      1.500000   1960.000000  0.000000e+00  0.000000e+00  \n",
       "25%      14.000000      5.300000   1993.000000  0.000000e+00  0.000000e+00  \n",
       "50%      23.000000      5.900000   2005.000000  0.000000e+00  0.000000e+00  \n",
       "75%      48.000000      6.500000   2011.000000  4.680167e+06  6.824086e+05  \n",
       "max    4368.000000      9.200000   2015.000000  4.250000e+08  8.530813e+08  "
      ]
     },
     "execution_count": 49,
     "metadata": {},
     "output_type": "execute_result"
    }
   ],
   "source": [
    "df_nhpm.describe()"
   ]
  },
  {
   "cell_type": "code",
   "execution_count": 50,
   "metadata": {},
   "outputs": [
    {
     "data": {
      "text/plain": [
       "43578401.833544396"
      ]
     },
     "execution_count": 50,
     "metadata": {},
     "output_type": "execute_result"
    }
   ],
   "source": [
    "hpm_bm = df_hpm['budget_adj'].mean()\n",
    "hpm_bm"
   ]
  },
  {
   "cell_type": "code",
   "execution_count": 51,
   "metadata": {},
   "outputs": [
    {
     "data": {
      "text/plain": [
       "7343511.941448858"
      ]
     },
     "execution_count": 51,
     "metadata": {},
     "output_type": "execute_result"
    }
   ],
   "source": [
    "nhpm_bm = df_nhpm['budget_adj'].mean()\n",
    "nhpm_bm"
   ]
  },
  {
   "cell_type": "code",
   "execution_count": 52,
   "metadata": {},
   "outputs": [
    {
     "data": {
      "text/plain": [
       "36234889.892095536"
      ]
     },
     "execution_count": 52,
     "metadata": {},
     "output_type": "execute_result"
    }
   ],
   "source": [
    "# the difference between the average budget spent is huge and noticeable !\n",
    "hpm_bm - nhpm_bm"
   ]
  },
  {
   "cell_type": "code",
   "execution_count": 53,
   "metadata": {},
   "outputs": [],
   "source": [
    "def scatter(x, y, xlabel, ylabel, title):\n",
    "    \"\"\"\n",
    "    this function create and show scatter \n",
    "    \"\"\"\n",
    "    plt.figure(figsize=(10, 6))\n",
    "    plt.scatter(x=x, y=y);\n",
    "    plt.xlabel(xlabel)\n",
    "    plt.ylabel(ylabel)\n",
    "    plt.title(title)\n",
    "\n",
    "    # Display the chart\n",
    "    plt.show()"
   ]
  },
  {
   "cell_type": "code",
   "execution_count": 54,
   "metadata": {},
   "outputs": [
    {
     "data": {
      "image/png": "[encoded data removed]",
      "text/plain": [
       "<Figure size 1000x600 with 1 Axes>"
      ]
     },
     "metadata": {},
     "output_type": "display_data"
    }
   ],
   "source": [
    "# now we know for sure the high popular movies get more budget let's have overall look at all movies we have \n",
    "scatter(df['popularity'], df['budget_adj'], 'popularity', 'budget', 'Popularity vs Budget')"
   ]
  },
  {
   "cell_type": "code",
   "execution_count": 55,
   "metadata": {},
   "outputs": [],
   "source": [
    "# also let's pick random 1000 movies (to avoid overplotting)\n",
    "df_sample=df.sample(1000)"
   ]
  },
  {
   "cell_type": "code",
   "execution_count": 56,
   "metadata": {},
   "outputs": [
    {
     "data": {
      "image/png": "[encoded data removed]",
      "text/plain": [
       "<Figure size 1000x600 with 1 Axes>"
      ]
     },
     "metadata": {},
     "output_type": "display_data"
    }
   ],
   "source": [
    "scatter(df_sample['popularity'], df_sample['budget_adj'], 'popularity', 'budget', 'Popularity vs Budget')"
   ]
  },
  {
   "cell_type": "markdown",
   "metadata": {},
   "source": [
    "it's clear now that we have positive correlation betwen popularity and budget."
   ]
  },
  {
   "cell_type": "markdown",
   "metadata": {},
   "source": [
    "### So does a high popular movies get more budget ?\n",
    "Yes! and from our analysis it seems the more popular the movie is the more likely to get bigger and bigger budget.\n",
    "\n",
    "but does having a high popularity and big budget mean high revenue ? let's find out."
   ]
  },
  {
   "cell_type": "code",
   "execution_count": 57,
   "metadata": {},
   "outputs": [
    {
     "data": {
      "text/plain": [
       "151425933.80433795"
      ]
     },
     "execution_count": 57,
     "metadata": {},
     "output_type": "execute_result"
    }
   ],
   "source": [
    "# let's get the mean of revenue for hpm and nhpm and compare them\n",
    "hpm_rm = df_hpm['revenue_adj'].mean()\n",
    "hpm_rm"
   ]
  },
  {
   "cell_type": "code",
   "execution_count": 58,
   "metadata": {},
   "outputs": [
    {
     "data": {
      "text/plain": [
       "12121766.525912458"
      ]
     },
     "execution_count": 58,
     "metadata": {},
     "output_type": "execute_result"
    }
   ],
   "source": [
    "nhpm_rm = df_nhpm['revenue_adj'].mean()\n",
    "nhpm_rm"
   ]
  },
  {
   "cell_type": "code",
   "execution_count": 59,
   "metadata": {},
   "outputs": [
    {
     "data": {
      "text/plain": [
       "139304167.27842548"
      ]
     },
     "execution_count": 59,
     "metadata": {},
     "output_type": "execute_result"
    }
   ],
   "source": [
    "# the difference between the average revenue is huge and noticeable !\n",
    "hpm_rm - nhpm_rm"
   ]
  },
  {
   "cell_type": "code",
   "execution_count": 60,
   "metadata": {},
   "outputs": [
    {
     "data": {
      "image/png": "[encoded data removed]",
      "text/plain": [
       "<Figure size 1000x600 with 1 Axes>"
      ]
     },
     "metadata": {},
     "output_type": "display_data"
    }
   ],
   "source": [
    "# using our sample data again\n",
    "scatter(df_sample['popularity'], df_sample['revenue_adj'], 'popularity', 'revenue', 'Popularity vs Revenue')"
   ]
  },
  {
   "cell_type": "markdown",
   "metadata": {},
   "source": [
    "So overall having a high popular movie mean getting a big budget and better revenue. \n",
    "\n",
    "but is budget and revenue have a relationship or it just the effect of popularity ? let's find out."
   ]
  },
  {
   "cell_type": "code",
   "execution_count": 61,
   "metadata": {},
   "outputs": [
    {
     "data": {
      "text/plain": [
       "17551039.82288678"
      ]
     },
     "execution_count": 61,
     "metadata": {},
     "output_type": "execute_result"
    }
   ],
   "source": [
    "# first let's find the average budget spent and every budget exceed the average \n",
    "# we are going to consider it as high budget\n",
    "bm = df['budget_adj'].mean()\n",
    "bm"
   ]
  },
  {
   "cell_type": "code",
   "execution_count": 62,
   "metadata": {},
   "outputs": [
    {
     "data": {
      "text/plain": [
       "(2975, 14)"
      ]
     },
     "execution_count": 62,
     "metadata": {},
     "output_type": "execute_result"
    }
   ],
   "source": [
    "df_hbm = df[df['budget_adj'] > bm]\n",
    "df_hbm.shape"
   ]
  },
  {
   "cell_type": "code",
   "execution_count": 63,
   "metadata": {},
   "outputs": [
    {
     "data": {
      "text/html": [
       "<div>\n",
       "<style scoped>\n",
       "    .dataframe tbody tr th:only-of-type {\n",
       "        vertical-align: middle;\n",
       "    }\n",
       "\n",
       "    .dataframe tbody tr th {\n",
       "        vertical-align: top;\n",
       "    }\n",
       "\n",
       "    .dataframe thead th {\n",
       "        text-align: right;\n",
       "    }\n",
       "</style>\n",
       "<table border=\"1\" class=\"dataframe\">\n",
       "  <thead>\n",
       "    <tr style=\"text-align: right;\">\n",
       "      <th></th>\n",
       "      <th>id</th>\n",
       "      <th>popularity</th>\n",
       "      <th>budget</th>\n",
       "      <th>revenue</th>\n",
       "      <th>runtime</th>\n",
       "      <th>vote_count</th>\n",
       "      <th>vote_average</th>\n",
       "      <th>release_year</th>\n",
       "      <th>budget_adj</th>\n",
       "      <th>revenue_adj</th>\n",
       "    </tr>\n",
       "  </thead>\n",
       "  <tbody>\n",
       "    <tr>\n",
       "      <th>count</th>\n",
       "      <td>2975.000000</td>\n",
       "      <td>2975.000000</td>\n",
       "      <td>2.975000e+03</td>\n",
       "      <td>2.975000e+03</td>\n",
       "      <td>2975.000000</td>\n",
       "      <td>2975.000000</td>\n",
       "      <td>2975.000000</td>\n",
       "      <td>2975.000000</td>\n",
       "      <td>2.975000e+03</td>\n",
       "      <td>2.975000e+03</td>\n",
       "    </tr>\n",
       "    <tr>\n",
       "      <th>mean</th>\n",
       "      <td>32403.989916</td>\n",
       "      <td>1.295083</td>\n",
       "      <td>4.905211e+07</td>\n",
       "      <td>1.277629e+08</td>\n",
       "      <td>112.895126</td>\n",
       "      <td>596.221176</td>\n",
       "      <td>6.109109</td>\n",
       "      <td>2000.686050</td>\n",
       "      <td>5.885626e+07</td>\n",
       "      <td>1.600170e+08</td>\n",
       "    </tr>\n",
       "    <tr>\n",
       "      <th>std</th>\n",
       "      <td>58245.872248</td>\n",
       "      <td>1.598004</td>\n",
       "      <td>4.269997e+07</td>\n",
       "      <td>1.945643e+08</td>\n",
       "      <td>24.092997</td>\n",
       "      <td>959.316207</td>\n",
       "      <td>0.801214</td>\n",
       "      <td>11.029287</td>\n",
       "      <td>4.362003e+07</td>\n",
       "      <td>2.364916e+08</td>\n",
       "    </tr>\n",
       "    <tr>\n",
       "      <th>min</th>\n",
       "      <td>11.000000</td>\n",
       "      <td>0.010335</td>\n",
       "      <td>2.500000e+06</td>\n",
       "      <td>0.000000e+00</td>\n",
       "      <td>28.000000</td>\n",
       "      <td>10.000000</td>\n",
       "      <td>2.200000</td>\n",
       "      <td>1960.000000</td>\n",
       "      <td>1.758985e+07</td>\n",
       "      <td>0.000000e+00</td>\n",
       "    </tr>\n",
       "    <tr>\n",
       "      <th>25%</th>\n",
       "      <td>5327.000000</td>\n",
       "      <td>0.499844</td>\n",
       "      <td>2.100000e+07</td>\n",
       "      <td>1.675143e+07</td>\n",
       "      <td>98.000000</td>\n",
       "      <td>78.000000</td>\n",
       "      <td>5.600000</td>\n",
       "      <td>1995.000000</td>\n",
       "      <td>2.808100e+07</td>\n",
       "      <td>2.306770e+07</td>\n",
       "    </tr>\n",
       "    <tr>\n",
       "      <th>50%</th>\n",
       "      <td>10647.000000</td>\n",
       "      <td>0.882840</td>\n",
       "      <td>3.500000e+07</td>\n",
       "      <td>6.047434e+07</td>\n",
       "      <td>109.000000</td>\n",
       "      <td>238.000000</td>\n",
       "      <td>6.100000</td>\n",
       "      <td>2003.000000</td>\n",
       "      <td>4.347073e+07</td>\n",
       "      <td>7.751848e+07</td>\n",
       "    </tr>\n",
       "    <tr>\n",
       "      <th>75%</th>\n",
       "      <td>25633.000000</td>\n",
       "      <td>1.510299</td>\n",
       "      <td>6.000000e+07</td>\n",
       "      <td>1.579042e+08</td>\n",
       "      <td>123.000000</td>\n",
       "      <td>669.000000</td>\n",
       "      <td>6.600000</td>\n",
       "      <td>2009.000000</td>\n",
       "      <td>7.503437e+07</td>\n",
       "      <td>1.961389e+08</td>\n",
       "    </tr>\n",
       "    <tr>\n",
       "      <th>max</th>\n",
       "      <td>417859.000000</td>\n",
       "      <td>32.985763</td>\n",
       "      <td>4.250000e+08</td>\n",
       "      <td>2.781506e+09</td>\n",
       "      <td>540.000000</td>\n",
       "      <td>9767.000000</td>\n",
       "      <td>8.400000</td>\n",
       "      <td>2015.000000</td>\n",
       "      <td>4.250000e+08</td>\n",
       "      <td>2.827124e+09</td>\n",
       "    </tr>\n",
       "  </tbody>\n",
       "</table>\n",
       "</div>"
      ],
      "text/plain": [
       "                  id   popularity        budget       revenue      runtime  \\\n",
       "count    2975.000000  2975.000000  2.975000e+03  2.975000e+03  2975.000000   \n",
       "mean    32403.989916     1.295083  4.905211e+07  1.277629e+08   112.895126   \n",
       "std     58245.872248     1.598004  4.269997e+07  1.945643e+08    24.092997   \n",
       "min        11.000000     0.010335  2.500000e+06  0.000000e+00    28.000000   \n",
       "25%      5327.000000     0.499844  2.100000e+07  1.675143e+07    98.000000   \n",
       "50%     10647.000000     0.882840  3.500000e+07  6.047434e+07   109.000000   \n",
       "75%     25633.000000     1.510299  6.000000e+07  1.579042e+08   123.000000   \n",
       "max    417859.000000    32.985763  4.250000e+08  2.781506e+09   540.000000   \n",
       "\n",
       "        vote_count  vote_average  release_year    budget_adj   revenue_adj  \n",
       "count  2975.000000   2975.000000   2975.000000  2.975000e+03  2.975000e+03  \n",
       "mean    596.221176      6.109109   2000.686050  5.885626e+07  1.600170e+08  \n",
       "std     959.316207      0.801214     11.029287  4.362003e+07  2.364916e+08  \n",
       "min      10.000000      2.200000   1960.000000  1.758985e+07  0.000000e+00  \n",
       "25%      78.000000      5.600000   1995.000000  2.808100e+07  2.306770e+07  \n",
       "50%     238.000000      6.100000   2003.000000  4.347073e+07  7.751848e+07  \n",
       "75%     669.000000      6.600000   2009.000000  7.503437e+07  1.961389e+08  \n",
       "max    9767.000000      8.400000   2015.000000  4.250000e+08  2.827124e+09  "
      ]
     },
     "execution_count": 63,
     "metadata": {},
     "output_type": "execute_result"
    }
   ],
   "source": [
    "df_hbm.describe()"
   ]
  },
  {
   "cell_type": "code",
   "execution_count": 64,
   "metadata": {},
   "outputs": [
    {
     "data": {
      "text/plain": [
       "(7891, 14)"
      ]
     },
     "execution_count": 64,
     "metadata": {},
     "output_type": "execute_result"
    }
   ],
   "source": [
    "# not high budget movies (this set will have movies with average budget and low budget)\n",
    "df_nhbm = df[df['budget_adj'] <= bm]\n",
    "df_nhbm.shape"
   ]
  },
  {
   "cell_type": "code",
   "execution_count": 65,
   "metadata": {},
   "outputs": [
    {
     "data": {
      "text/html": [
       "<div>\n",
       "<style scoped>\n",
       "    .dataframe tbody tr th:only-of-type {\n",
       "        vertical-align: middle;\n",
       "    }\n",
       "\n",
       "    .dataframe tbody tr th {\n",
       "        vertical-align: top;\n",
       "    }\n",
       "\n",
       "    .dataframe thead th {\n",
       "        text-align: right;\n",
       "    }\n",
       "</style>\n",
       "<table border=\"1\" class=\"dataframe\">\n",
       "  <thead>\n",
       "    <tr style=\"text-align: right;\">\n",
       "      <th></th>\n",
       "      <th>id</th>\n",
       "      <th>popularity</th>\n",
       "      <th>budget</th>\n",
       "      <th>revenue</th>\n",
       "      <th>runtime</th>\n",
       "      <th>vote_count</th>\n",
       "      <th>vote_average</th>\n",
       "      <th>release_year</th>\n",
       "      <th>budget_adj</th>\n",
       "      <th>revenue_adj</th>\n",
       "    </tr>\n",
       "  </thead>\n",
       "  <tbody>\n",
       "    <tr>\n",
       "      <th>count</th>\n",
       "      <td>7891.000000</td>\n",
       "      <td>7891.000000</td>\n",
       "      <td>7.891000e+03</td>\n",
       "      <td>7.891000e+03</td>\n",
       "      <td>7891.000000</td>\n",
       "      <td>7891.000000</td>\n",
       "      <td>7891.000000</td>\n",
       "      <td>7891.000000</td>\n",
       "      <td>7.891000e+03</td>\n",
       "      <td>7.891000e+03</td>\n",
       "    </tr>\n",
       "    <tr>\n",
       "      <th>mean</th>\n",
       "      <td>78754.464833</td>\n",
       "      <td>0.401895</td>\n",
       "      <td>1.646538e+06</td>\n",
       "      <td>6.669079e+06</td>\n",
       "      <td>97.989989</td>\n",
       "      <td>74.565834</td>\n",
       "      <td>5.924332</td>\n",
       "      <td>2001.562666</td>\n",
       "      <td>1.978484e+06</td>\n",
       "      <td>1.040103e+07</td>\n",
       "    </tr>\n",
       "    <tr>\n",
       "      <th>std</th>\n",
       "      <td>99102.868771</td>\n",
       "      <td>0.443366</td>\n",
       "      <td>3.651756e+06</td>\n",
       "      <td>2.382273e+07</td>\n",
       "      <td>32.809834</td>\n",
       "      <td>186.735905</td>\n",
       "      <td>0.976169</td>\n",
       "      <td>13.416832</td>\n",
       "      <td>4.200112e+06</td>\n",
       "      <td>3.994176e+07</td>\n",
       "    </tr>\n",
       "    <tr>\n",
       "      <th>min</th>\n",
       "      <td>5.000000</td>\n",
       "      <td>0.000065</td>\n",
       "      <td>0.000000e+00</td>\n",
       "      <td>0.000000e+00</td>\n",
       "      <td>0.000000</td>\n",
       "      <td>10.000000</td>\n",
       "      <td>1.500000</td>\n",
       "      <td>1960.000000</td>\n",
       "      <td>0.000000e+00</td>\n",
       "      <td>0.000000e+00</td>\n",
       "    </tr>\n",
       "    <tr>\n",
       "      <th>25%</th>\n",
       "      <td>13353.500000</td>\n",
       "      <td>0.167043</td>\n",
       "      <td>0.000000e+00</td>\n",
       "      <td>0.000000e+00</td>\n",
       "      <td>89.000000</td>\n",
       "      <td>14.000000</td>\n",
       "      <td>5.300000</td>\n",
       "      <td>1994.000000</td>\n",
       "      <td>0.000000e+00</td>\n",
       "      <td>0.000000e+00</td>\n",
       "    </tr>\n",
       "    <tr>\n",
       "      <th>50%</th>\n",
       "      <td>27429.000000</td>\n",
       "      <td>0.296309</td>\n",
       "      <td>0.000000e+00</td>\n",
       "      <td>0.000000e+00</td>\n",
       "      <td>96.000000</td>\n",
       "      <td>25.000000</td>\n",
       "      <td>6.000000</td>\n",
       "      <td>2007.000000</td>\n",
       "      <td>0.000000e+00</td>\n",
       "      <td>0.000000e+00</td>\n",
       "    </tr>\n",
       "    <tr>\n",
       "      <th>75%</th>\n",
       "      <td>103956.500000</td>\n",
       "      <td>0.489852</td>\n",
       "      <td>4.250000e+05</td>\n",
       "      <td>1.926080e+05</td>\n",
       "      <td>106.000000</td>\n",
       "      <td>58.000000</td>\n",
       "      <td>6.600000</td>\n",
       "      <td>2012.000000</td>\n",
       "      <td>5.454173e+05</td>\n",
       "      <td>2.041495e+05</td>\n",
       "    </tr>\n",
       "    <tr>\n",
       "      <th>max</th>\n",
       "      <td>409696.000000</td>\n",
       "      <td>8.411577</td>\n",
       "      <td>1.820000e+07</td>\n",
       "      <td>4.142115e+08</td>\n",
       "      <td>900.000000</td>\n",
       "      <td>5343.000000</td>\n",
       "      <td>9.200000</td>\n",
       "      <td>2015.000000</td>\n",
       "      <td>1.752343e+07</td>\n",
       "      <td>8.530813e+08</td>\n",
       "    </tr>\n",
       "  </tbody>\n",
       "</table>\n",
       "</div>"
      ],
      "text/plain": [
       "                  id   popularity        budget       revenue      runtime  \\\n",
       "count    7891.000000  7891.000000  7.891000e+03  7.891000e+03  7891.000000   \n",
       "mean    78754.464833     0.401895  1.646538e+06  6.669079e+06    97.989989   \n",
       "std     99102.868771     0.443366  3.651756e+06  2.382273e+07    32.809834   \n",
       "min         5.000000     0.000065  0.000000e+00  0.000000e+00     0.000000   \n",
       "25%     13353.500000     0.167043  0.000000e+00  0.000000e+00    89.000000   \n",
       "50%     27429.000000     0.296309  0.000000e+00  0.000000e+00    96.000000   \n",
       "75%    103956.500000     0.489852  4.250000e+05  1.926080e+05   106.000000   \n",
       "max    409696.000000     8.411577  1.820000e+07  4.142115e+08   900.000000   \n",
       "\n",
       "        vote_count  vote_average  release_year    budget_adj   revenue_adj  \n",
       "count  7891.000000   7891.000000   7891.000000  7.891000e+03  7.891000e+03  \n",
       "mean     74.565834      5.924332   2001.562666  1.978484e+06  1.040103e+07  \n",
       "std     186.735905      0.976169     13.416832  4.200112e+06  3.994176e+07  \n",
       "min      10.000000      1.500000   1960.000000  0.000000e+00  0.000000e+00  \n",
       "25%      14.000000      5.300000   1994.000000  0.000000e+00  0.000000e+00  \n",
       "50%      25.000000      6.000000   2007.000000  0.000000e+00  0.000000e+00  \n",
       "75%      58.000000      6.600000   2012.000000  5.454173e+05  2.041495e+05  \n",
       "max    5343.000000      9.200000   2015.000000  1.752343e+07  8.530813e+08  "
      ]
     },
     "execution_count": 65,
     "metadata": {},
     "output_type": "execute_result"
    }
   ],
   "source": [
    "df_nhbm.describe()"
   ]
  },
  {
   "cell_type": "code",
   "execution_count": 66,
   "metadata": {},
   "outputs": [
    {
     "data": {
      "text/plain": [
       "149615981.54001185"
      ]
     },
     "execution_count": 66,
     "metadata": {},
     "output_type": "execute_result"
    }
   ],
   "source": [
    "# now we have our sets ready let's calculate the mean of revenue_adj and compear them\n",
    "# the difference between the average revenus is huge and noticeable !\n",
    "df_hbm['revenue_adj'].mean() - df_nhbm['revenue_adj'].mean()"
   ]
  },
  {
   "cell_type": "code",
   "execution_count": 67,
   "metadata": {},
   "outputs": [
    {
     "data": {
      "image/png": "[encoded data removed]",
      "text/plain": [
       "<Figure size 1000x600 with 1 Axes>"
      ]
     },
     "metadata": {},
     "output_type": "display_data"
    }
   ],
   "source": [
    "scatter(df_sample['budget_adj'], df_sample['revenue_adj'], 'budget', 'revenue', 'Budget vs Revenue')"
   ]
  },
  {
   "cell_type": "markdown",
   "metadata": {},
   "source": [
    "So overall having a high budget movie mean better revenue. "
   ]
  },
  {
   "cell_type": "markdown",
   "metadata": {},
   "source": [
    "## Our answer for \"are movies with high popularity tend to have a bigger budget and better revenue ?\"\n",
    "\n",
    "Short answer: yes they have bigger budget and better revenue also there is a positive correlation betwen budget and revenue.\n",
    "\n",
    "long answer: Not only we were able to prove that having a high popular movies tend to have a bigger budget by comearing the average budget spent on high popular movies and the average budget spent on movies with average to low popularity and getting 36234889.892095536 as different ! we were able to prove that a high popular movies get better revenue after compering the averge revenue for high popular movies and movies with average to low popularity and geetting 139304167.27842548 as different and with that said it end up leanding to another question is there a correlation betwen budget and revenue too or it all was the effect of having high popularity ? and yes we were actually able to find that there is a positive correlation by comearing the averge revenue for high budget movies and movies with average to low budget and find 149615981.54001185 as different."
   ]
  },
  {
   "cell_type": "markdown",
   "metadata": {},
   "source": [
    "### Do movies become longer as the years go by ? (is there a correlation between relase year and runtime?)"
   ]
  },
  {
   "cell_type": "code",
   "execution_count": 68,
   "metadata": {
    "tags": []
   },
   "outputs": [],
   "source": [
    "#let's find out the distribution of years we have\n",
    "years_array = df['release_year']\n",
    "year_counts = pd.Series(years_array).value_counts()"
   ]
  },
  {
   "cell_type": "code",
   "execution_count": 69,
   "metadata": {},
   "outputs": [
    {
     "data": {
      "text/plain": [
       "array([2015, 2014, 1977, 2009, 2010, 1999, 2001, 2008, 2011, 2002, 1994,\n",
       "       2012, 2003, 1997, 2013, 1985, 2005, 2006, 2004, 1972, 1980, 2007,\n",
       "       1979, 1984, 1983, 1995, 1992, 1981, 1996, 2000, 1982, 1998, 1989,\n",
       "       1991, 1988, 1987, 1968, 1974, 1975, 1962, 1964, 1971, 1990, 1961,\n",
       "       1960, 1976, 1993, 1967, 1963, 1986, 1973, 1970, 1965, 1969, 1978,\n",
       "       1966])"
      ]
     },
     "execution_count": 69,
     "metadata": {},
     "output_type": "execute_result"
    }
   ],
   "source": [
    "years_array.unique()"
   ]
  },
  {
   "cell_type": "code",
   "execution_count": 70,
   "metadata": {},
   "outputs": [],
   "source": [
    "def bar(x, y, xlabel, ylabel, title):\n",
    "    '''\n",
    "    this create and display bar chart \n",
    "    '''\n",
    "    plt.figure(figsize=(10, 6))\n",
    "    plt.bar(x, y)\n",
    "    plt.xlabel(xlabel)\n",
    "    plt.ylabel(ylabel)\n",
    "    plt.title(title)\n",
    "\n",
    "    # Display the chart\n",
    "    plt.show()"
   ]
  },
  {
   "cell_type": "code",
   "execution_count": 71,
   "metadata": {},
   "outputs": [
    {
     "data": {
      "image/png": "[encoded data removed]",
      "text/plain": [
       "<Figure size 1000x600 with 1 Axes>"
      ]
     },
     "metadata": {},
     "output_type": "display_data"
    }
   ],
   "source": [
    "bar(year_counts.index, year_counts.values, 'Year', 'Count', 'Distribution of Years')"
   ]
  },
  {
   "cell_type": "code",
   "execution_count": 72,
   "metadata": {},
   "outputs": [
    {
     "data": {
      "text/plain": [
       "array([700, 659, 629, 588, 540, 533, 496, 490, 438, 408, 364, 307, 281,\n",
       "       266, 242, 227, 224, 210, 204, 192, 184, 178, 175, 145, 137, 133,\n",
       "       133, 132, 125, 121, 109, 105,  82,  81,  80,  78,  65,  57,  57,\n",
       "        55,  55,  47,  47,  46,  44,  42,  41,  40,  40,  39,  35,  34,\n",
       "        32,  32,  31,  31])"
      ]
     },
     "execution_count": 72,
     "metadata": {},
     "output_type": "execute_result"
    }
   ],
   "source": [
    "year_counts.values"
   ]
  },
  {
   "cell_type": "markdown",
   "metadata": {},
   "source": [
    "it's seems that our data set full of movies that have been realse on year 2005+ mean while there are a lot of older years didn't even reach 100 movies making it unfire if we want to compear and find an answer."
   ]
  },
  {
   "cell_type": "markdown",
   "metadata": {},
   "source": [
    "what we are going to try is making a new data frame with years that have at least 100 movies and the we are randomly going choice 100 movies from every year to compear them (Note: we might end up with only years that close to each other and if that happend we need to drop the question since haveing very close data like this would not be acutly good to answer our question)"
   ]
  },
  {
   "cell_type": "code",
   "execution_count": 73,
   "metadata": {},
   "outputs": [
    {
     "data": {
      "text/plain": [
       "[1984,\n",
       " 1985,\n",
       " 1986,\n",
       " 1987,\n",
       " 1988,\n",
       " 1989,\n",
       " 1990,\n",
       " 1991,\n",
       " 1992,\n",
       " 1993,\n",
       " 1994,\n",
       " 1995,\n",
       " 1996,\n",
       " 1997,\n",
       " 1998,\n",
       " 1999,\n",
       " 2000,\n",
       " 2001,\n",
       " 2002,\n",
       " 2003,\n",
       " 2004,\n",
       " 2005,\n",
       " 2006,\n",
       " 2007,\n",
       " 2008,\n",
       " 2009,\n",
       " 2010,\n",
       " 2011,\n",
       " 2012,\n",
       " 2013,\n",
       " 2014,\n",
       " 2015]"
      ]
     },
     "execution_count": 73,
     "metadata": {},
     "output_type": "execute_result"
    }
   ],
   "source": [
    "years = [year for year, count in year_counts.items() if count >= 100]\n",
    "sorted(years)"
   ]
  },
  {
   "cell_type": "markdown",
   "metadata": {},
   "source": [
    "Great :) not only we have 90s movie but also mid 80s along with 2000s and some movies that relase on 2010s \n",
    "so we have enouph data to work and play with so let's contine."
   ]
  },
  {
   "cell_type": "code",
   "execution_count": 74,
   "metadata": {},
   "outputs": [
    {
     "data": {
      "text/plain": [
       "(3200, 14)"
      ]
     },
     "execution_count": 74,
     "metadata": {},
     "output_type": "execute_result"
    }
   ],
   "source": [
    "# so let's make our new data set then\n",
    "new_dataset = pd.DataFrame()\n",
    "\n",
    "# Iterate over each year\n",
    "for year in years:\n",
    "    # Filter the original dataframe for the current year\n",
    "    year_records = df[df['release_year'] == year]\n",
    "    \n",
    "    # Randomly select 100 records from the current year\n",
    "    random_records = year_records.sample(n=100, random_state=42)  # You can change the random_state value for different random samples\n",
    "    \n",
    "    # Append the randomly selected records to the new dataset\n",
    "    new_dataset = pd.concat([new_dataset, random_records])\n",
    "\n",
    "# Reset the index of the new dataset\n",
    "new_dataset.reset_index(drop=True, inplace=True)\n",
    "\n",
    "\n",
    "new_dataset.shape"
   ]
  },
  {
   "cell_type": "code",
   "execution_count": 75,
   "metadata": {},
   "outputs": [
    {
     "data": {
      "text/html": [
       "<div>\n",
       "<style scoped>\n",
       "    .dataframe tbody tr th:only-of-type {\n",
       "        vertical-align: middle;\n",
       "    }\n",
       "\n",
       "    .dataframe tbody tr th {\n",
       "        vertical-align: top;\n",
       "    }\n",
       "\n",
       "    .dataframe thead th {\n",
       "        text-align: right;\n",
       "    }\n",
       "</style>\n",
       "<table border=\"1\" class=\"dataframe\">\n",
       "  <thead>\n",
       "    <tr style=\"text-align: right;\">\n",
       "      <th></th>\n",
       "      <th>id</th>\n",
       "      <th>popularity</th>\n",
       "      <th>budget</th>\n",
       "      <th>revenue</th>\n",
       "      <th>runtime</th>\n",
       "      <th>vote_count</th>\n",
       "      <th>vote_average</th>\n",
       "      <th>release_year</th>\n",
       "      <th>budget_adj</th>\n",
       "      <th>revenue_adj</th>\n",
       "    </tr>\n",
       "  </thead>\n",
       "  <tbody>\n",
       "    <tr>\n",
       "      <th>count</th>\n",
       "      <td>3200.000000</td>\n",
       "      <td>3200.000000</td>\n",
       "      <td>3.200000e+03</td>\n",
       "      <td>3.200000e+03</td>\n",
       "      <td>3200.000000</td>\n",
       "      <td>3200.000000</td>\n",
       "      <td>3200.000000</td>\n",
       "      <td>3200.000000</td>\n",
       "      <td>3.200000e+03</td>\n",
       "      <td>3.200000e+03</td>\n",
       "    </tr>\n",
       "    <tr>\n",
       "      <th>mean</th>\n",
       "      <td>41449.475937</td>\n",
       "      <td>0.665100</td>\n",
       "      <td>1.678110e+07</td>\n",
       "      <td>4.533211e+07</td>\n",
       "      <td>103.105937</td>\n",
       "      <td>215.942187</td>\n",
       "      <td>5.979156</td>\n",
       "      <td>1999.500000</td>\n",
       "      <td>2.101408e+07</td>\n",
       "      <td>5.852085e+07</td>\n",
       "    </tr>\n",
       "    <tr>\n",
       "      <th>std</th>\n",
       "      <td>70888.136096</td>\n",
       "      <td>0.859360</td>\n",
       "      <td>3.165540e+07</td>\n",
       "      <td>1.192823e+08</td>\n",
       "      <td>27.417460</td>\n",
       "      <td>576.637074</td>\n",
       "      <td>0.891704</td>\n",
       "      <td>9.234536</td>\n",
       "      <td>3.629399e+07</td>\n",
       "      <td>1.414726e+08</td>\n",
       "    </tr>\n",
       "    <tr>\n",
       "      <th>min</th>\n",
       "      <td>6.000000</td>\n",
       "      <td>0.000065</td>\n",
       "      <td>0.000000e+00</td>\n",
       "      <td>0.000000e+00</td>\n",
       "      <td>0.000000</td>\n",
       "      <td>10.000000</td>\n",
       "      <td>2.100000</td>\n",
       "      <td>1984.000000</td>\n",
       "      <td>0.000000e+00</td>\n",
       "      <td>0.000000e+00</td>\n",
       "    </tr>\n",
       "    <tr>\n",
       "      <th>25%</th>\n",
       "      <td>9532.250000</td>\n",
       "      <td>0.238667</td>\n",
       "      <td>0.000000e+00</td>\n",
       "      <td>0.000000e+00</td>\n",
       "      <td>91.000000</td>\n",
       "      <td>18.000000</td>\n",
       "      <td>5.500000</td>\n",
       "      <td>1991.750000</td>\n",
       "      <td>0.000000e+00</td>\n",
       "      <td>0.000000e+00</td>\n",
       "    </tr>\n",
       "    <tr>\n",
       "      <th>50%</th>\n",
       "      <td>13926.500000</td>\n",
       "      <td>0.422714</td>\n",
       "      <td>8.750000e+05</td>\n",
       "      <td>3.932100e+05</td>\n",
       "      <td>100.000000</td>\n",
       "      <td>44.000000</td>\n",
       "      <td>6.000000</td>\n",
       "      <td>1999.500000</td>\n",
       "      <td>1.018664e+06</td>\n",
       "      <td>4.863360e+05</td>\n",
       "    </tr>\n",
       "    <tr>\n",
       "      <th>75%</th>\n",
       "      <td>34098.750000</td>\n",
       "      <td>0.781225</td>\n",
       "      <td>2.277450e+07</td>\n",
       "      <td>3.617784e+07</td>\n",
       "      <td>112.000000</td>\n",
       "      <td>160.250000</td>\n",
       "      <td>6.600000</td>\n",
       "      <td>2007.250000</td>\n",
       "      <td>3.038360e+07</td>\n",
       "      <td>4.963166e+07</td>\n",
       "    </tr>\n",
       "    <tr>\n",
       "      <th>max</th>\n",
       "      <td>417859.000000</td>\n",
       "      <td>13.112507</td>\n",
       "      <td>4.250000e+08</td>\n",
       "      <td>2.781506e+09</td>\n",
       "      <td>566.000000</td>\n",
       "      <td>9767.000000</td>\n",
       "      <td>8.900000</td>\n",
       "      <td>2015.000000</td>\n",
       "      <td>4.250000e+08</td>\n",
       "      <td>2.827124e+09</td>\n",
       "    </tr>\n",
       "  </tbody>\n",
       "</table>\n",
       "</div>"
      ],
      "text/plain": [
       "                  id   popularity        budget       revenue      runtime  \\\n",
       "count    3200.000000  3200.000000  3.200000e+03  3.200000e+03  3200.000000   \n",
       "mean    41449.475937     0.665100  1.678110e+07  4.533211e+07   103.105937   \n",
       "std     70888.136096     0.859360  3.165540e+07  1.192823e+08    27.417460   \n",
       "min         6.000000     0.000065  0.000000e+00  0.000000e+00     0.000000   \n",
       "25%      9532.250000     0.238667  0.000000e+00  0.000000e+00    91.000000   \n",
       "50%     13926.500000     0.422714  8.750000e+05  3.932100e+05   100.000000   \n",
       "75%     34098.750000     0.781225  2.277450e+07  3.617784e+07   112.000000   \n",
       "max    417859.000000    13.112507  4.250000e+08  2.781506e+09   566.000000   \n",
       "\n",
       "        vote_count  vote_average  release_year    budget_adj   revenue_adj  \n",
       "count  3200.000000   3200.000000   3200.000000  3.200000e+03  3.200000e+03  \n",
       "mean    215.942187      5.979156   1999.500000  2.101408e+07  5.852085e+07  \n",
       "std     576.637074      0.891704      9.234536  3.629399e+07  1.414726e+08  \n",
       "min      10.000000      2.100000   1984.000000  0.000000e+00  0.000000e+00  \n",
       "25%      18.000000      5.500000   1991.750000  0.000000e+00  0.000000e+00  \n",
       "50%      44.000000      6.000000   1999.500000  1.018664e+06  4.863360e+05  \n",
       "75%     160.250000      6.600000   2007.250000  3.038360e+07  4.963166e+07  \n",
       "max    9767.000000      8.900000   2015.000000  4.250000e+08  2.827124e+09  "
      ]
     },
     "execution_count": 75,
     "metadata": {},
     "output_type": "execute_result"
    }
   ],
   "source": [
    "new_dataset.describe()"
   ]
  },
  {
   "cell_type": "code",
   "execution_count": 76,
   "metadata": {},
   "outputs": [
    {
     "data": {
      "text/plain": [
       "release_year\n",
       "1984    104.00\n",
       "1985    114.80\n",
       "1986    100.44\n",
       "1987    101.12\n",
       "1988    101.27\n",
       "1989    103.82\n",
       "1990    105.97\n",
       "1991    104.73\n",
       "1992    107.51\n",
       "1993    111.34\n",
       "1994    105.39\n",
       "1995    104.61\n",
       "1996    106.76\n",
       "1997    106.52\n",
       "1998    104.35\n",
       "1999    108.36\n",
       "2000    102.41\n",
       "2001    102.22\n",
       "2002    104.36\n",
       "2003     99.86\n",
       "2004    104.88\n",
       "2005    103.19\n",
       "2006    100.50\n",
       "2007    102.13\n",
       "2008    101.60\n",
       "2009     99.84\n",
       "2010     97.97\n",
       "2011     94.57\n",
       "2012     97.17\n",
       "2013     97.94\n",
       "2014    102.94\n",
       "2015     96.82\n",
       "Name: runtime, dtype: float64"
      ]
     },
     "execution_count": 76,
     "metadata": {},
     "output_type": "execute_result"
    }
   ],
   "source": [
    "#let' find the mean for runtime for every year\n",
    "average_runtime = new_dataset.groupby('release_year')['runtime'].mean()\n",
    "average_runtime"
   ]
  },
  {
   "cell_type": "code",
   "execution_count": 77,
   "metadata": {},
   "outputs": [
    {
     "data": {
      "image/png": "[encoded data removed]",
      "text/plain": [
       "<Figure size 1000x600 with 1 Axes>"
      ]
     },
     "metadata": {},
     "output_type": "display_data"
    }
   ],
   "source": [
    "bar(average_runtime.index, average_runtime.values, 'Release Year', 'Average runtime', 'Average Revenue per Year')"
   ]
  },
  {
   "cell_type": "markdown",
   "metadata": {},
   "source": [
    "no corrletion betwen relase year and everage runtime"
   ]
  },
  {
   "cell_type": "markdown",
   "metadata": {},
   "source": [
    "## Our answer for \"are movies become longer and longer with time ?\"\n",
    "\n",
    "Although we hear a lot people complins about how movies are getting longer and longer at least from 1985 to 2015 there is no corrletion we were able to find betwen the release year and average runtime in fact as the bar chart show there is no notiable differnt on the average runtime betwen the years but again this only coverd movies from 1985 to 2015."
   ]
  },
  {
   "cell_type": "markdown",
   "metadata": {},
   "source": [
    "<a id='conclusions'></a>\n",
    "## Conclusions\n",
    "\n",
    "> We start this project to answer two main questions we have. The first question is: Do high-popular movies have a bigger budget and better revenue compared to movies with average to low popularity? We were able to prove that high-popular movies have a bigger budget by comparing the average budget spent on high-popular movies and the average budget spent on movies with average to low popularity. The difference we found was 36,234,889.892095536.\n",
    "Similarly, we found that high-popular movies also have better revenue. We proved this by comparing the average revenue for high-popular movies and movies with average to low popularity. The difference we found was 139,304,167.27842548.\n",
    "Furthermore, we discovered a positive correlation between budget and revenue by comparing the average revenue for high budget movies and movies with average to low budget. The difference was found to be 149,615,981.54\n",
    "\n",
    "> Moving on to the second and last question: Do movies become longer as the years go by? We noticed that the dataset we are working with is lacking in terms of recent movies since it only covers movies released up to 2015. However, we still tried our best to analyze movies from different time periods such as the mid-80s, 90s, 2000s, and some from 2010. Unfortunately, we were not able to find a correlation between release year and runtime.\n",
    "It's important to note that the dataset limitations may have affected our findings regarding the second question. The dataset being outdated and not covering recent movies could have influenced the results."
   ]
  },
  {
   "cell_type": "code",
   "execution_count": 78,
   "metadata": {
    "tags": []
   },
   "outputs": [
    {
     "name": "stdout",
     "output_type": "stream",
     "text": [
      "[NbConvertApp] Converting notebook Investigate_a_Dataset.ipynb to html\n",
      "[NbConvertApp] Writing 861568 bytes to Investigate_a_Dataset.html\n"
     ]
    }
   ],
   "source": [
    "# Running this cell will execute a bash command to convert this notebook to an .html file\n",
    "!python -m nbconvert --to html Investigate_a_Dataset.ipynb"
   ]
  }
 ],
 "metadata": {
  "kernelspec": {
   "display_name": "Python 3 (ipykernel)",
   "language": "python",
   "name": "python3"
  },
  "language_info": {
   "codemirror_mode": {
    "name": "ipython",
    "version": 3
   },
   "file_extension": ".py",
   "mimetype": "text/x-python",
   "name": "python",
   "nbconvert_exporter": "python",
   "pygments_lexer": "ipython3",
   "version": "3.10.10"
  }
 },
 "nbformat": 4,
 "nbformat_minor": 4
}
